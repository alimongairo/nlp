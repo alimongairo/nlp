{
 "cells": [
  {
   "cell_type": "code",
   "execution_count": 1,
   "metadata": {},
   "outputs": [],
   "source": [
    "import json\n",
    "import os\n",
    "import pandas as pd\n",
    "\n",
    "import requests\n",
    "from bs4 import BeautifulSoup\n",
    "from html2text import html2text\n",
    "\n",
    "import warnings\n",
    "warnings.filterwarnings('ignore')\n",
    "\n",
    "chrome_driver_path = \"chromedriver.exe\"\n",
    "\n",
    "# !pip install pymystem3 selenium html2text requests beautifulsoup4 atlas json2xml lxml"
   ]
  },
  {
   "cell_type": "code",
   "execution_count": 3,
   "metadata": {},
   "outputs": [],
   "source": [
    "def onePageParsing(cat, page):\n",
    "    req = requests.get(f'https://content.guardianapis.com/search?api-key=test&show-fields=bodyText&show-tags=all&page-size=50&section={cat}&page={page}')\n",
    "    cont = json.loads(req.content)\n",
    "    news = cont['response']['results']\n",
    "    items = []\n",
    "    for item in news:\n",
    "        tags = item['tags']\n",
    "        tag_list = ''\n",
    "        for tag in tags:\n",
    "            tag_list += tag['webTitle'] + ','\n",
    "        tag_list = tag_list[:-1]\n",
    "\n",
    "        new_item = {\n",
    "        'article_id': item['webUrl'],\n",
    "        'title': item['webTitle'],\n",
    "        'category': item['sectionName'],\n",
    "        'tags': tag_list,\n",
    "        'text': item['fields']['bodyText']\n",
    "        }\n",
    "        items.append(new_item)\n",
    "    # print(len(items))\n",
    "    return items\n",
    "\n",
    "# onePageParsing('sport', 2)"
   ]
  },
  {
   "cell_type": "code",
   "execution_count": 4,
   "metadata": {},
   "outputs": [],
   "source": [
    "categories = ['sport', 'music', 'travel', 'science']"
   ]
  },
  {
   "cell_type": "code",
   "execution_count": 7,
   "metadata": {},
   "outputs": [
    {
     "name": "stdout",
     "output_type": "stream",
     "text": [
      "Total: 1000\n",
      "Total: 2000\n",
      "Total: 3000\n",
      "Total: 4000\n"
     ]
    }
   ],
   "source": [
    "catalog = []\n",
    "for cat in categories:\n",
    "    for i in range(1, 21):\n",
    "        result = onePageParsing(cat, i)\n",
    "        catalog += result\n",
    "    print(f'Total: {len(catalog)}')"
   ]
  },
  {
   "cell_type": "code",
   "execution_count": 8,
   "metadata": {},
   "outputs": [],
   "source": [
    "data = {'catalog': catalog}\n",
    "with open('data.json', 'w') as file:\n",
    "    json.dump(data, file, indent=4)"
   ]
  }
 ],
 "metadata": {
  "kernelspec": {
   "display_name": "Python 3",
   "language": "python",
   "name": "python3"
  },
  "language_info": {
   "codemirror_mode": {
    "name": "ipython",
    "version": 3
   },
   "file_extension": ".py",
   "mimetype": "text/x-python",
   "name": "python",
   "nbconvert_exporter": "python",
   "pygments_lexer": "ipython3",
   "version": "3.9.13 (tags/v3.9.13:6de2ca5, May 17 2022, 16:36:42) [MSC v.1929 64 bit (AMD64)]"
  },
  "orig_nbformat": 4,
  "vscode": {
   "interpreter": {
    "hash": "a1b0659de84034284b61f6d21556d6a65405aa42e07bb7ac10c19d52fec8ef8b"
   }
  }
 },
 "nbformat": 4,
 "nbformat_minor": 2
}
